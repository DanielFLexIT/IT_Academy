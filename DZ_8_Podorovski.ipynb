{
 "cells": [
  {
   "cell_type": "code",
   "execution_count": 183,
   "metadata": {},
   "outputs": [],
   "source": [
    "import pandas as pd\n",
    "import numpy as np\n",
    "from scipy.sparse import coo_matrix\n",
    "from implicit.als import AlternatingLeastSquares\n",
    "from implicit.nearest_neighbours import CosineRecommender\n",
    "from sklearn.preprocessing import minmax_scale\n",
    "import os\n",
    "os.environ['OPENBLAS_NUM_THREADS'] = '1'\n",
    "os.environ['MKL_NUM_THREADS'] = '1'"
   ]
  },
  {
   "cell_type": "code",
   "execution_count": 184,
   "metadata": {},
   "outputs": [],
   "source": [
    "df = pd.read_csv('data_ml-1m/ratings.csv')"
   ]
  },
  {
   "cell_type": "code",
   "execution_count": 185,
   "metadata": {},
   "outputs": [
    {
     "data": {
      "text/html": [
       "<div>\n",
       "<style scoped>\n",
       "    .dataframe tbody tr th:only-of-type {\n",
       "        vertical-align: middle;\n",
       "    }\n",
       "\n",
       "    .dataframe tbody tr th {\n",
       "        vertical-align: top;\n",
       "    }\n",
       "\n",
       "    .dataframe thead th {\n",
       "        text-align: right;\n",
       "    }\n",
       "</style>\n",
       "<table border=\"1\" class=\"dataframe\">\n",
       "  <thead>\n",
       "    <tr style=\"text-align: right;\">\n",
       "      <th></th>\n",
       "      <th>userId</th>\n",
       "      <th>movieId</th>\n",
       "      <th>rating</th>\n",
       "      <th>timestamp</th>\n",
       "    </tr>\n",
       "  </thead>\n",
       "  <tbody>\n",
       "    <tr>\n",
       "      <th>0</th>\n",
       "      <td>1</td>\n",
       "      <td>1193</td>\n",
       "      <td>5</td>\n",
       "      <td>978300760</td>\n",
       "    </tr>\n",
       "    <tr>\n",
       "      <th>1</th>\n",
       "      <td>1</td>\n",
       "      <td>661</td>\n",
       "      <td>3</td>\n",
       "      <td>978302109</td>\n",
       "    </tr>\n",
       "    <tr>\n",
       "      <th>2</th>\n",
       "      <td>1</td>\n",
       "      <td>914</td>\n",
       "      <td>3</td>\n",
       "      <td>978301968</td>\n",
       "    </tr>\n",
       "    <tr>\n",
       "      <th>3</th>\n",
       "      <td>1</td>\n",
       "      <td>3408</td>\n",
       "      <td>4</td>\n",
       "      <td>978300275</td>\n",
       "    </tr>\n",
       "    <tr>\n",
       "      <th>4</th>\n",
       "      <td>1</td>\n",
       "      <td>2355</td>\n",
       "      <td>5</td>\n",
       "      <td>978824291</td>\n",
       "    </tr>\n",
       "    <tr>\n",
       "      <th>...</th>\n",
       "      <td>...</td>\n",
       "      <td>...</td>\n",
       "      <td>...</td>\n",
       "      <td>...</td>\n",
       "    </tr>\n",
       "    <tr>\n",
       "      <th>1000204</th>\n",
       "      <td>6040</td>\n",
       "      <td>1091</td>\n",
       "      <td>1</td>\n",
       "      <td>956716541</td>\n",
       "    </tr>\n",
       "    <tr>\n",
       "      <th>1000205</th>\n",
       "      <td>6040</td>\n",
       "      <td>1094</td>\n",
       "      <td>5</td>\n",
       "      <td>956704887</td>\n",
       "    </tr>\n",
       "    <tr>\n",
       "      <th>1000206</th>\n",
       "      <td>6040</td>\n",
       "      <td>562</td>\n",
       "      <td>5</td>\n",
       "      <td>956704746</td>\n",
       "    </tr>\n",
       "    <tr>\n",
       "      <th>1000207</th>\n",
       "      <td>6040</td>\n",
       "      <td>1096</td>\n",
       "      <td>4</td>\n",
       "      <td>956715648</td>\n",
       "    </tr>\n",
       "    <tr>\n",
       "      <th>1000208</th>\n",
       "      <td>6040</td>\n",
       "      <td>1097</td>\n",
       "      <td>4</td>\n",
       "      <td>956715569</td>\n",
       "    </tr>\n",
       "  </tbody>\n",
       "</table>\n",
       "<p>1000209 rows × 4 columns</p>\n",
       "</div>"
      ],
      "text/plain": [
       "         userId  movieId  rating  timestamp\n",
       "0             1     1193       5  978300760\n",
       "1             1      661       3  978302109\n",
       "2             1      914       3  978301968\n",
       "3             1     3408       4  978300275\n",
       "4             1     2355       5  978824291\n",
       "...         ...      ...     ...        ...\n",
       "1000204    6040     1091       1  956716541\n",
       "1000205    6040     1094       5  956704887\n",
       "1000206    6040      562       5  956704746\n",
       "1000207    6040     1096       4  956715648\n",
       "1000208    6040     1097       4  956715569\n",
       "\n",
       "[1000209 rows x 4 columns]"
      ]
     },
     "execution_count": 185,
     "metadata": {},
     "output_type": "execute_result"
    }
   ],
   "source": [
    "df"
   ]
  },
  {
   "cell_type": "markdown",
   "metadata": {},
   "source": [
    "# Создаем разреженную матрицу"
   ]
  },
  {
   "cell_type": "code",
   "execution_count": 186,
   "metadata": {},
   "outputs": [],
   "source": [
    "user_item_matrix = coo_matrix((\n",
    "    (df[\"rating\"]>=4).astype(np.float32),\n",
    "    (df[\"userId\"], df[\"movieId\"])))\n",
    "\n",
    "user_item_matrix.eliminate_zeros()"
   ]
  },
  {
   "cell_type": "markdown",
   "metadata": {},
   "source": [
    "# Разделение на обучающую и тестовые выборки"
   ]
  },
  {
   "cell_type": "code",
   "execution_count": 187,
   "metadata": {},
   "outputs": [],
   "source": [
    "total_len = user_item_matrix.data.size\n",
    "train_len = int(total_len * 0.8)\n",
    "all_indices = np.arange(total_len)\n",
    "np.random.seed(42)\n",
    "train_indices = np.random.choice(all_indices, train_len, replace = False)\n",
    "train_mask = np.in1d(all_indices, train_indices)"
   ]
  },
  {
   "cell_type": "markdown",
   "metadata": {},
   "source": [
    "# Функция наложения маски"
   ]
  },
  {
   "cell_type": "code",
   "execution_count": 188,
   "metadata": {},
   "outputs": [],
   "source": [
    "def get_masked(arr, mask):\n",
    "    return coo_matrix(\n",
    "        (\n",
    "            [np.float32(item) for item in arr.data[mask]],\n",
    "            (arr.row[mask], arr.col[mask])\n",
    "        ), arr.shape\n",
    "    )"
   ]
  },
  {
   "cell_type": "markdown",
   "metadata": {},
   "source": [
    "# Функция получения рекомендаций"
   ]
  },
  {
   "cell_type": "code",
   "execution_count": 189,
   "metadata": {},
   "outputs": [],
   "source": [
    "def get_recs(user, model):\n",
    "    return {\n",
    "        user: model.recommend(userid=user, user_items=train_csr, N=50)\n",
    "        for user in users\n",
    "    }"
   ]
  },
  {
   "cell_type": "markdown",
   "metadata": {},
   "source": [
    "# Хитрейт "
   ]
  },
  {
   "cell_type": "code",
   "execution_count": 190,
   "metadata": {},
   "outputs": [],
   "source": [
    "def hitrate (k, recs, users):\n",
    "    hits = 0\n",
    "    for user in users:\n",
    "        if recs[user]:\n",
    "            rec_items, _ = zip(*recs[user])\n",
    "            hits += len(set(rec_items[:k]).intersection(set(test_csr[user].indices))) > 0\n",
    "    return hits / len(users) "
   ]
  },
  {
   "cell_type": "markdown",
   "metadata": {},
   "source": [
    "# Подготовка матриц"
   ]
  },
  {
   "cell_type": "code",
   "execution_count": 191,
   "metadata": {},
   "outputs": [],
   "source": [
    "train_csr = get_masked(user_item_matrix, train_mask).tocsr()\n",
    "train = train_csr.T\n",
    "test_coo = get_masked(user_item_matrix, ~train_mask)\n",
    "test_csr = test_coo.tocsr()"
   ]
  },
  {
   "cell_type": "code",
   "execution_count": 192,
   "metadata": {},
   "outputs": [],
   "source": [
    "users = list(set(test_coo.row))"
   ]
  },
  {
   "cell_type": "markdown",
   "metadata": {},
   "source": [
    "# ALS и Cosine отдельно"
   ]
  },
  {
   "cell_type": "code",
   "execution_count": 193,
   "metadata": {},
   "outputs": [
    {
     "data": {
      "application/vnd.jupyter.widget-view+json": {
       "model_id": "6d4b8958c50e427a9fbc97edfde7fb4e",
       "version_major": 2,
       "version_minor": 0
      },
      "text/plain": [
       "HBox(children=(FloatProgress(value=0.0, max=15.0), HTML(value='')))"
      ]
     },
     "metadata": {},
     "output_type": "display_data"
    },
    {
     "name": "stdout",
     "output_type": "stream",
     "text": [
      "\n"
     ]
    },
    {
     "data": {
      "application/vnd.jupyter.widget-view+json": {
       "model_id": "489ae0664892408981c50b0ccf92647e",
       "version_major": 2,
       "version_minor": 0
      },
      "text/plain": [
       "HBox(children=(FloatProgress(value=0.0, max=3953.0), HTML(value='')))"
      ]
     },
     "metadata": {},
     "output_type": "display_data"
    },
    {
     "name": "stdout",
     "output_type": "stream",
     "text": [
      "\n"
     ]
    }
   ],
   "source": [
    "als = AlternatingLeastSquares(random_state = 42)\n",
    "als.fit(train)\n",
    "recs_als = get_recs(users, als)\n",
    "cos = CosineRecommender()\n",
    "cos.fit(train)\n",
    "recs_cosine = get_recs(users, cos)"
   ]
  },
  {
   "cell_type": "markdown",
   "metadata": {},
   "source": [
    "# Функция нормализации данных "
   ]
  },
  {
   "cell_type": "code",
   "execution_count": 194,
   "metadata": {},
   "outputs": [],
   "source": [
    "def normalize(alg, users):\n",
    "    for user in users:\n",
    "        if alg[user]:\n",
    "            rec_items, rec_users = zip(*alg[user])\n",
    "            rec_users = list(minmax_scale(list(rec_users)))\n",
    "            for i in range(len(alg[user])):\n",
    "                alg[user][i] = (rec_items[i], rec_users[i])\n",
    "    return alg\n",
    "recs_als_norm = normalize(recs_als, users)\n",
    "recs_cos_norm = normalize(recs_cosine, users)"
   ]
  },
  {
   "cell_type": "markdown",
   "metadata": {},
   "source": [
    "# Смешивание"
   ]
  },
  {
   "cell_type": "code",
   "execution_count": 195,
   "metadata": {},
   "outputs": [],
   "source": [
    "def mixed_recs(recs_als, recs_cos, weight=1):\n",
    "    mixed_recs = dict()\n",
    "    for i in recs_als:\n",
    "        mixed_recs[i] = list()\n",
    "        dict_recs_als = dict(recs_als[i])\n",
    "        dict_recs_cos = dict(recs_cos[i])\n",
    "        set_keys = set(list(dict_recs_als.keys()) + list(dict_recs_cos.keys()))\n",
    "        for j in set_keys:\n",
    "            if dict_recs_als.get(j) != None and dict_recs_cos.get(j) != None:\n",
    "                mixed_recs[i].append((j, (dict_recs_als.get(j))*weight + (dict_recs_cos.get(j))*(1-weight)))\n",
    "            elif dict_recs_als.get(j) != None:\n",
    "                mixed_recs[i].append((j, (dict_recs_als.get(j))*weight))\n",
    "            elif dict_recs_cos.get(j) != None:\n",
    "                mixed_recs[i].append((j, (dict_recs_cos.get(j))*weight))\n",
    "            else: \n",
    "                mixed_recs[i].append(j, 0)\n",
    "    top_mixed = dict()\n",
    "    for i in mixed_recs:\n",
    "        top_mixed[i] = sorted(mixed_recs[i], key = lambda x: x[1], reverse = True)[:50]\n",
    "    return top_mixed\n",
    "recs_sum = mixed_recs(recs_als_norm, recs_cos_norm, 0.7)"
   ]
  },
  {
   "cell_type": "code",
   "execution_count": 196,
   "metadata": {},
   "outputs": [
    {
     "name": "stdout",
     "output_type": "stream",
     "text": [
      "als hitrate=50   0.9280936454849499\n",
      "cos hitrate=50   0.9349498327759197\n",
      "mix hitrate=50   0.9461538461538461\n"
     ]
    }
   ],
   "source": [
    "print('als', 'hitrate=50  ', hitrate(50, recs_als, users))\n",
    "print('cos', 'hitrate=50  ', hitrate(50, recs_cosine, users))\n",
    "print('mix', 'hitrate=50  ', hitrate(50, recs_sum, users))"
   ]
  },
  {
   "cell_type": "markdown",
   "metadata": {},
   "source": [
    "# За опоздание с дедлайном штраф анекдот"
   ]
  },
  {
   "cell_type": "markdown",
   "metadata": {},
   "source": [
    "Я регулярно захожу в пропускной пункт на границе с Украиной, и каждый раз спрашиваю, можно ли пройти через границу. Каждый раз мне отвечают \"нет\". Я спрашивал уже раз 150 и 150 раз мне ответили нет. Смысл в том, что отвечает мне один и тот же проверяющий, отвечает с неизменной интонацией. А я каждый раз с неизменной интонацией спрашиваю:\n",
    "- Пройти можно?\n",
    "- У вас паспорта нет.\n",
    "- Украина - великая страна, паспорт не нужен.\n",
    "\n",
    "- Можно мне пройти через границу?\n",
    "- Извините, у вас паспорт поддельный.\n",
    "- Мой паспорт вам не нравится, я понял. Я потом приду, новый будет лучше!\n",
    "\n",
    "- Привет старина, это опять я.\n",
    "- Нужно разрешение на въезд.\n",
    "\n",
    "- Я дам тебе 10 кредитов за правильный штампик.\n",
    "- Извините, но пропуск недействителен.\n",
    "\n",
    "- Слава Украини, можно пройти?\n",
    "- Извините но вес не совпадает, вы провозите что-нибудь с собой.\n",
    "\n",
    "И ведь этот пограничник, зараза, знает меня идеально в лицо, знает, что я спрошу и знает, что он мне ответит. Но ещё ни разу ни один из нас ни жестом, ни словом не показал, что каждый из нас знает сценарий. Бывает проверяющий смотрит фотографию своей семьи, когдя я захожу в будку, тогда я подсматриваю за ним сквозь стеклянное окошко, он равнодушно досматривает фотографию, кладет её в карман и возвращается за будку:\n",
    "- Что вы хотели?\n",
    "- Дружище, мне бы пройти за границу.\n",
    "- У вас документов нет.\n",
    "- Жаль.\n",
    "\n",
    "Иногда он общается с другим иммигрантом, тогда, стоя рядом, я терпеливо жду, когда они закончат:\n",
    "- А мне бы пройти через границу?\n",
    "- Нет, у вас документы просроченны.\n",
    "\n",
    "Иногда он просто скучает за столом, когда в пропускном пункте никого нет, и только я расхаживаю по залу. Конечно, он знает, что будет дальше, но не подаёт виду и равнодушно берёт журнал.\n",
    "- Привет дружище, пройти можно?\n",
    "- Нет, с контрабандой нельзя.\n",
    "\n",
    "Это очень суровое, по-настоящему мужское противостояние, исход которого не ясен. Очевидно, что каждая сторона рассчитывает на победу. Впрочем, я уже согласен на ничью."
   ]
  },
  {
   "cell_type": "code",
   "execution_count": null,
   "metadata": {},
   "outputs": [],
   "source": []
  }
 ],
 "metadata": {
  "kernelspec": {
   "display_name": "Python 3",
   "language": "python",
   "name": "python3"
  },
  "language_info": {
   "codemirror_mode": {
    "name": "ipython",
    "version": 3
   },
   "file_extension": ".py",
   "mimetype": "text/x-python",
   "name": "python",
   "nbconvert_exporter": "python",
   "pygments_lexer": "ipython3",
   "version": "3.7.6"
  }
 },
 "nbformat": 4,
 "nbformat_minor": 4
}
