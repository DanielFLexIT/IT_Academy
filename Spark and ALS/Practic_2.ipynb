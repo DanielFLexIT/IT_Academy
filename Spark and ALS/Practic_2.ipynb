{
 "cells": [
  {
   "cell_type": "code",
   "execution_count": 99,
   "metadata": {},
   "outputs": [],
   "source": [
    "import pandas as pd\n",
    "\n",
    "movies = pd.read_csv('data/movies.csv')"
   ]
  },
  {
   "cell_type": "code",
   "execution_count": 100,
   "metadata": {},
   "outputs": [
    {
     "data": {
      "text/html": [
       "<div>\n",
       "<style scoped>\n",
       "    .dataframe tbody tr th:only-of-type {\n",
       "        vertical-align: middle;\n",
       "    }\n",
       "\n",
       "    .dataframe tbody tr th {\n",
       "        vertical-align: top;\n",
       "    }\n",
       "\n",
       "    .dataframe thead th {\n",
       "        text-align: right;\n",
       "    }\n",
       "</style>\n",
       "<table border=\"1\" class=\"dataframe\">\n",
       "  <thead>\n",
       "    <tr style=\"text-align: right;\">\n",
       "      <th></th>\n",
       "      <th>genre</th>\n",
       "      <th>movieId</th>\n",
       "      <th>genre_id</th>\n",
       "    </tr>\n",
       "  </thead>\n",
       "  <tbody>\n",
       "    <tr>\n",
       "      <th>0</th>\n",
       "      <td>Animation</td>\n",
       "      <td>1</td>\n",
       "      <td>2</td>\n",
       "    </tr>\n",
       "    <tr>\n",
       "      <th>1</th>\n",
       "      <td>Children's</td>\n",
       "      <td>1</td>\n",
       "      <td>3</td>\n",
       "    </tr>\n",
       "    <tr>\n",
       "      <th>2</th>\n",
       "      <td>Comedy</td>\n",
       "      <td>1</td>\n",
       "      <td>4</td>\n",
       "    </tr>\n",
       "    <tr>\n",
       "      <th>3</th>\n",
       "      <td>Adventure</td>\n",
       "      <td>2</td>\n",
       "      <td>1</td>\n",
       "    </tr>\n",
       "    <tr>\n",
       "      <th>4</th>\n",
       "      <td>Children's</td>\n",
       "      <td>2</td>\n",
       "      <td>3</td>\n",
       "    </tr>\n",
       "  </tbody>\n",
       "</table>\n",
       "</div>"
      ],
      "text/plain": [
       "        genre  movieId  genre_id\n",
       "0   Animation        1         2\n",
       "1  Children's        1         3\n",
       "2      Comedy        1         4\n",
       "3   Adventure        2         1\n",
       "4  Children's        2         3"
      ]
     },
     "execution_count": 100,
     "metadata": {},
     "output_type": "execute_result"
    }
   ],
   "source": [
    "rows = []\n",
    "\n",
    "for _, row in movies.iterrows():\n",
    "    for genre in row['genres'].split('|'):\n",
    "        rows.append([genre, row['movieId']])\n",
    "        \n",
    "movies_genres = pd.DataFrame(rows, columns=['genre', 'movieId'])\n",
    "movies_genres['genre_id'] = movies_genres['genre'].astype('category').cat.codes.copy() # сопостовление какому Id фильма, соответствует Id жанра\n",
    "movies_genres.head()"
   ]
  },
  {
   "cell_type": "code",
   "execution_count": 101,
   "metadata": {},
   "outputs": [],
   "source": [
    "# поскольку строится гибридная система, оценки тоже нужны\n",
    "\n",
    "ratings = pd.read_csv('data/ratings.csv')"
   ]
  },
  {
   "cell_type": "code",
   "execution_count": 102,
   "metadata": {},
   "outputs": [],
   "source": [
    "from scipy.sparse import coo_matrix\n",
    "import numpy as np\n",
    "\n",
    "user_item_matrix = coo_matrix((\n",
    "    (ratings[\"rating\"]>=4).astype(np.float32), # по колонке оценок пораждается булевская колонка \"нравится\"\n",
    "    (ratings[\"userId\"], ratings[\"movieId\"])),    # назначение матрицы строк и столбцов\n",
    "    shape=(\n",
    "        ratings[\"userId\"].unique().max() + 1,   # явно указан размер, так как есть фильмы без оценок, но с жанрами\n",
    "        movies[\"movieId\"].unique().max() + 1)   # чтобы алгоритм не сломался\n",
    ")\n",
    "\n",
    "user_item_matrix.eliminate_zeros()"
   ]
  },
  {
   "cell_type": "code",
   "execution_count": 103,
   "metadata": {},
   "outputs": [],
   "source": [
    "# делим разреженную матрицу на обучающую и тестовую\n",
    "total_len = user_item_matrix.data.size\n",
    "train_len = int(total_len * 0.8)\n",
    "all_indices = np.arange(total_len)\n",
    "np.random.seed(42)\n",
    "train_indices = np.random.choice(all_indices, train_len, replace=False)\n",
    "train_mask = np.in1d(all_indices, train_indices)"
   ]
  },
  {
   "cell_type": "code",
   "execution_count": 104,
   "metadata": {},
   "outputs": [],
   "source": [
    "# функция наложения маски на разреженные матрицы\n",
    "def get_masked(arr, mask):\n",
    "    return coo_matrix(\n",
    "        (\n",
    "            [np.float32(item) for item in arr.data[mask]],\n",
    "            (arr.row[mask], arr.col[mask])\n",
    "        ), arr.shape\n",
    "    )"
   ]
  },
  {
   "cell_type": "code",
   "execution_count": 105,
   "metadata": {},
   "outputs": [],
   "source": [
    "# подготовка train и  test матриц\n",
    "\n",
    "train = get_masked(user_item_matrix, train_mask)\n",
    "test = get_masked(user_item_matrix, ~train_mask)"
   ]
  },
  {
   "cell_type": "code",
   "execution_count": 106,
   "metadata": {},
   "outputs": [],
   "source": [
    "# сохранения train и test  в npz\n",
    "\n",
    "from scipy.sparse import save_npz\n",
    "\n",
    "save_npz('data/lightfm_train.npz', train)\n",
    "save_npz('data/lightfm_test.npz', test)"
   ]
  },
  {
   "cell_type": "markdown",
   "metadata": {},
   "source": [
    "Установка   \n",
    "!conda install -c conda-forge lightfm"
   ]
  },
  {
   "cell_type": "markdown",
   "metadata": {},
   "source": [
    "##### Подключаем модель"
   ]
  },
  {
   "cell_type": "code",
   "execution_count": 107,
   "metadata": {},
   "outputs": [],
   "source": [
    "from lightfm import LightFM\n",
    "\n",
    "fm = LightFM(loss='warp', max_sampled=15)"
   ]
  },
  {
   "cell_type": "code",
   "execution_count": 108,
   "metadata": {},
   "outputs": [
    {
     "name": "stderr",
     "output_type": "stream",
     "text": [
      "Epoch: 100%|██████████| 100/100 [00:56<00:00,  1.76it/s]\n"
     ]
    },
    {
     "data": {
      "text/plain": [
       "<lightfm.lightfm.LightFM at 0x7fd696b6bcd0>"
      ]
     },
     "execution_count": 108,
     "metadata": {},
     "output_type": "execute_result"
    }
   ],
   "source": [
    "# обучение модели\n",
    "\n",
    "fm.fit(interactions=train, \n",
    "       epochs=100, \n",
    "       num_threads=6, # количество потоков \n",
    "       verbose=True)"
   ]
  },
  {
   "cell_type": "code",
   "execution_count": 109,
   "metadata": {},
   "outputs": [
    {
     "data": {
      "text/plain": [
       "{'loss': 'warp',\n",
       " 'learning_schedule': 'adagrad',\n",
       " 'no_components': 10,\n",
       " 'learning_rate': 0.05,\n",
       " 'k': 5,\n",
       " 'n': 10,\n",
       " 'rho': 0.95,\n",
       " 'epsilon': 1e-06,\n",
       " 'max_sampled': 15,\n",
       " 'item_alpha': 0.0,\n",
       " 'user_alpha': 0.0,\n",
       " 'random_state': RandomState(MT19937) at 0x7FD6AABCF490}"
      ]
     },
     "execution_count": 109,
     "metadata": {},
     "output_type": "execute_result"
    }
   ],
   "source": [
    "fm.get_params() # параметры обученной модели"
   ]
  },
  {
   "cell_type": "code",
   "execution_count": 110,
   "metadata": {},
   "outputs": [
    {
     "name": "stdout",
     "output_type": "stream",
     "text": [
      "CPU times: user 1.89 s, sys: 7.24 ms, total: 1.9 s\n",
      "Wall time: 1.92 s\n"
     ]
    }
   ],
   "source": [
    "%%time\n",
    "\n",
    "from lightfm.evaluation import reciprocal_rank\n",
    "\n",
    "rr = reciprocal_rank(model=fm, test_interactions=test, train_interactions=train, num_threads=6) # дисконтированный хитрейт"
   ]
  },
  {
   "cell_type": "code",
   "execution_count": 111,
   "metadata": {},
   "outputs": [
    {
     "data": {
      "text/plain": [
       "0.49834794"
      ]
     },
     "execution_count": 111,
     "metadata": {},
     "output_type": "execute_result"
    }
   ],
   "source": [
    "rr.mean() # среднее по всем пользователям"
   ]
  },
  {
   "cell_type": "code",
   "execution_count": 112,
   "metadata": {},
   "outputs": [
    {
     "name": "stderr",
     "output_type": "stream",
     "text": [
      "Epoch: 100%|██████████| 100/100 [00:57<00:00,  1.75it/s]"
     ]
    },
    {
     "name": "stdout",
     "output_type": "stream",
     "text": [
      "CPU times: user 55.7 s, sys: 336 ms, total: 56.1 s\n",
      "Wall time: 57 s\n"
     ]
    },
    {
     "name": "stderr",
     "output_type": "stream",
     "text": [
      "\n"
     ]
    },
    {
     "data": {
      "text/plain": [
       "<lightfm.lightfm.LightFM at 0x7fd696b6bcd0>"
      ]
     },
     "execution_count": 112,
     "metadata": {},
     "output_type": "execute_result"
    }
   ],
   "source": [
    "%%time\n",
    "\n",
    "fm.fit_partial(interactions=train, epochs=100, num_threads=6, verbose=True) # продолжение обучения с прерванного момента"
   ]
  },
  {
   "cell_type": "code",
   "execution_count": 113,
   "metadata": {},
   "outputs": [
    {
     "name": "stdout",
     "output_type": "stream",
     "text": [
      "CPU times: user 1.9 s, sys: 6.69 ms, total: 1.91 s\n",
      "Wall time: 1.91 s\n"
     ]
    }
   ],
   "source": [
    "%%time\n",
    "\n",
    "rr = reciprocal_rank(model=fm, test_interactions=test, train_interactions=train, num_threads=6)"
   ]
  },
  {
   "cell_type": "code",
   "execution_count": 114,
   "metadata": {},
   "outputs": [
    {
     "data": {
      "text/plain": [
       "0.50210655"
      ]
     },
     "execution_count": 114,
     "metadata": {},
     "output_type": "execute_result"
    }
   ],
   "source": [
    "rr.mean()"
   ]
  },
  {
   "cell_type": "code",
   "execution_count": 115,
   "metadata": {},
   "outputs": [
    {
     "name": "stdout",
     "output_type": "stream",
     "text": [
      "(array([  0.       ,  -6.6424117,  -8.6195345, ...,  -4.14148  ,\n",
      "        -8.533468 , -14.989444 ], dtype=float32), array([[-0.02183516,  0.03104008,  0.0339275 , ..., -0.00456486,\n",
      "        -0.0218044 , -0.00847927],\n",
      "       [ 0.66724837,  0.00184182, -0.36907074, ..., -0.814388  ,\n",
      "         0.4633758 ,  0.7133973 ],\n",
      "       [ 0.12351669, -0.25644386,  1.0144219 , ..., -0.15825948,\n",
      "         0.64981884, -0.17695291],\n",
      "       ...,\n",
      "       [ 0.36860806,  0.7782866 , -0.09230369, ..., -0.64138794,\n",
      "        -0.17150559, -0.23478888],\n",
      "       [ 0.24513043,  1.018095  , -0.56260115, ..., -1.4754514 ,\n",
      "         0.2233494 ,  0.21332413],\n",
      "       [-0.6218216 ,  1.2399174 ,  0.02535371, ..., -0.2644478 ,\n",
      "         0.5981313 ,  1.0441839 ]], dtype=float32))\n"
     ]
    }
   ],
   "source": [
    "user_factors = fm.get_user_representations()\n",
    "print(user_factors)"
   ]
  },
  {
   "cell_type": "code",
   "execution_count": 116,
   "metadata": {},
   "outputs": [
    {
     "name": "stdout",
     "output_type": "stream",
     "text": [
      "6041\n",
      "(6041, 10)\n"
     ]
    }
   ],
   "source": [
    "print(len(user_factors[0]))\n",
    "print(user_factors[1].shape) # размерность матрицы факторов пользователя = пользователи на скрытые факторы"
   ]
  },
  {
   "cell_type": "code",
   "execution_count": 117,
   "metadata": {},
   "outputs": [
    {
     "name": "stdout",
     "output_type": "stream",
     "text": [
      "(array([-1.4959909 ,  2.2405884 ,  0.7839686 , ..., -0.45476004,\n",
      "       -0.64014304,  0.6948971 ], dtype=float32), array([[ 0.6542956 ,  0.3156788 ,  0.3252783 , ...,  0.5602816 ,\n",
      "        -0.87492496, -0.39728847],\n",
      "       [ 0.35843417, -0.34476957, -0.8943662 , ..., -0.5662831 ,\n",
      "         0.562454  ,  0.14841406],\n",
      "       [ 0.45888364, -0.34363794, -1.1960322 , ...,  0.12966253,\n",
      "        -0.2421121 , -0.7184711 ],\n",
      "       ...,\n",
      "       [ 0.37442115, -0.46336985,  0.36944586, ...,  0.9114857 ,\n",
      "         0.14617042,  1.1479101 ],\n",
      "       [ 0.7472734 ,  0.7029012 ,  1.2749847 , ...,  0.3891351 ,\n",
      "        -0.1339105 ,  0.83127147],\n",
      "       [ 0.8097521 ,  0.05532259,  0.857232  , ...,  1.2192491 ,\n",
      "         1.2410944 ,  0.5006391 ]], dtype=float32))\n"
     ]
    }
   ],
   "source": [
    "item_factors = fm.get_item_representations() # тоже самое с факторами объектов\n",
    "print(item_factors)"
   ]
  },
  {
   "cell_type": "code",
   "execution_count": 118,
   "metadata": {},
   "outputs": [
    {
     "name": "stdout",
     "output_type": "stream",
     "text": [
      "3953\n",
      "(3953, 10)\n"
     ]
    }
   ],
   "source": [
    "print(len(item_factors[0]))\n",
    "print(item_factors[1].shape) # размерность матрицы факторов item = пользователи на скрытые факторы"
   ]
  },
  {
   "cell_type": "markdown",
   "metadata": {},
   "source": [
    "### Добавление фичей жанров и id жанров"
   ]
  },
  {
   "cell_type": "code",
   "execution_count": null,
   "metadata": {},
   "outputs": [],
   "source": []
  },
  {
   "cell_type": "code",
   "execution_count": 119,
   "metadata": {},
   "outputs": [
    {
     "data": {
      "text/plain": [
       "(3953, 3971)"
      ]
     },
     "execution_count": 119,
     "metadata": {},
     "output_type": "execute_result"
    }
   ],
   "source": [
    "# добавление фичей жанров и id жанров\n",
    "\n",
    "from scipy.sparse import identity, hstack\n",
    "\n",
    "item_feature_matrix = hstack([  # контектенирует две матрицы\n",
    "    coo_matrix(\n",
    "        (np.ones(movies_genres.count()[0], dtype=np.float32),\n",
    "        (movies_genres['movieId'], movies_genres['genre_id'])),\n",
    "        shape=(user_item_matrix.shape[1], movies_genres['genre_id'].unique().size)),\n",
    "        identity(user_item_matrix.shape[1]) # единичная матрица соответствия жанра\n",
    "])\n",
    "\n",
    "item_feature_matrix.shape # результат = id фильма + id жанров"
   ]
  },
  {
   "cell_type": "code",
   "execution_count": 120,
   "metadata": {},
   "outputs": [
    {
     "name": "stderr",
     "output_type": "stream",
     "text": [
      "Epoch: 100%|██████████| 100/100 [01:17<00:00,  1.29it/s]"
     ]
    },
    {
     "name": "stdout",
     "output_type": "stream",
     "text": [
      "CPU times: user 1min 16s, sys: 428 ms, total: 1min 17s\n",
      "Wall time: 1min 17s\n"
     ]
    },
    {
     "name": "stderr",
     "output_type": "stream",
     "text": [
      "\n"
     ]
    },
    {
     "data": {
      "text/plain": [
       "<lightfm.lightfm.LightFM at 0x7fd696b6bcd0>"
      ]
     },
     "execution_count": 120,
     "metadata": {},
     "output_type": "execute_result"
    }
   ],
   "source": [
    "%%time\n",
    "\n",
    "fm.fit(interactions=train, epochs=100, item_features=item_feature_matrix, verbose=True) # обучается так же плюс передается матрица фичей"
   ]
  },
  {
   "cell_type": "code",
   "execution_count": 121,
   "metadata": {},
   "outputs": [
    {
     "name": "stdout",
     "output_type": "stream",
     "text": [
      "(array([ 0.6360203 ,  0.23552993,  0.6360543 , ..., -0.18580446,\n",
      "       -0.7905941 ,  0.7993212 ], dtype=float32), array([[-0.02897846,  0.5457959 ,  0.0607111 , ...,  0.6498681 ,\n",
      "         0.32078242, -0.16437127],\n",
      "       [ 0.0515788 ,  0.1392302 , -0.4173382 , ..., -0.07515994,\n",
      "        -0.24397483,  0.11735915],\n",
      "       [-0.50855505, -0.03343564,  0.12565404, ...,  0.18378513,\n",
      "        -0.7751745 ,  0.21144849],\n",
      "       ...,\n",
      "       [ 0.06902822,  0.1241332 ,  0.36874452, ...,  0.14713833,\n",
      "         0.24951597,  0.5650499 ],\n",
      "       [-0.2827888 , -0.5775592 ,  1.3828031 , ...,  0.33989358,\n",
      "         0.01571707, -0.24833426],\n",
      "       [ 0.2623806 , -0.7226788 ,  0.46746948, ...,  0.6482909 ,\n",
      "         0.16311009, -0.7373382 ]], dtype=float32))\n"
     ]
    }
   ],
   "source": [
    "new_item_factors = fm.get_item_representations() # тоже самое с факторами объектов\n",
    "print(new_item_factors)\n"
   ]
  },
  {
   "cell_type": "code",
   "execution_count": 122,
   "metadata": {},
   "outputs": [
    {
     "name": "stdout",
     "output_type": "stream",
     "text": [
      "3971\n",
      "(3971, 10)\n"
     ]
    }
   ],
   "source": [
    "print(len(new_item_factors[0]))\n",
    "print(new_item_factors[1].shape)"
   ]
  },
  {
   "cell_type": "code",
   "execution_count": 123,
   "metadata": {},
   "outputs": [
    {
     "name": "stdout",
     "output_type": "stream",
     "text": [
      "CPU times: user 2.35 s, sys: 19.6 ms, total: 2.37 s\n",
      "Wall time: 2.47 s\n"
     ]
    }
   ],
   "source": [
    "%%time\n",
    "# оценка\n",
    "\n",
    "rr = reciprocal_rank(model=fm, test_interactions=test, train_interactions=train, \n",
    "                     item_features=item_feature_matrix, num_threads=6)"
   ]
  },
  {
   "cell_type": "code",
   "execution_count": 124,
   "metadata": {},
   "outputs": [
    {
     "data": {
      "text/plain": [
       "0.5069311"
      ]
     },
     "execution_count": 124,
     "metadata": {},
     "output_type": "execute_result"
    }
   ],
   "source": [
    "rr.mean()"
   ]
  },
  {
   "cell_type": "code",
   "execution_count": 125,
   "metadata": {},
   "outputs": [],
   "source": [
    "# как это не печально, но результат получился гораздо хуже."
   ]
  },
  {
   "cell_type": "markdown",
   "metadata": {},
   "source": [
    "#### Задание слушателям  \n",
    "1. Подобрать параметры модели и улучшить результат."
   ]
  },
  {
   "cell_type": "code",
   "execution_count": null,
   "metadata": {},
   "outputs": [],
   "source": []
  }
 ],
 "metadata": {
  "kernelspec": {
   "display_name": "Python 3",
   "language": "python",
   "name": "python3"
  }
 },
 "nbformat": 4,
 "nbformat_minor": 4
}
