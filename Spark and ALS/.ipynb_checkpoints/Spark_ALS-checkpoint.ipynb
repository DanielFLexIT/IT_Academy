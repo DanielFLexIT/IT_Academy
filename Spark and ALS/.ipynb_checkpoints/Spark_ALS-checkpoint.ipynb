{
 "cells": [
  {
   "cell_type": "markdown",
   "metadata": {},
   "source": [
    "## SPARK ALS"
   ]
  },
  {
   "cell_type": "code",
   "execution_count": 1,
   "metadata": {},
   "outputs": [],
   "source": [
    "%matplotlib inline\n",
    "import matplotlib.pyplot as plt\n",
    "import seaborn as sns\n",
    "import numpy as np"
   ]
  },
  {
   "cell_type": "code",
   "execution_count": 2,
   "metadata": {},
   "outputs": [],
   "source": [
    "# создаем сессию spark\n",
    "from pyspark.sql import SparkSession\n",
    "\n",
    "spark = (\n",
    "    SparkSession\n",
    "    .builder\n",
    "    # если вертуальной машине нельзя добавить памяти, можно использовать меньше\n",
    "    .config('spark_driver.memory', '8g')\n",
    "    # можно явно количество ядер, которые будет использовать Spark\n",
    "    # либо поставить звездочку для всех доступных виртуальной машине\n",
    "    .master('local[*]')\n",
    "    .getOrCreate()\n",
    "    )"
   ]
  },
  {
   "cell_type": "code",
   "execution_count": 5,
   "metadata": {},
   "outputs": [],
   "source": [
    "# файл с оценками - user * item МАТРИЦА\n",
    "\n",
    "import os\n",
    "import pyspark.sql.functions as sql_func\n",
    "\n",
    "ratings = (\n",
    "    spark\n",
    "    .read\n",
    "    .csv(os.path.join('data/ratings.csv'), header=True, inferSchema=True)\n",
    "    .drop('timestamp')\n",
    "    .cache()\n",
    "    )\n",
    "spark.sparkContext.setCheckpointDir('tmp/checkpoints')"
   ]
  },
  {
   "cell_type": "code",
   "execution_count": null,
   "metadata": {},
   "outputs": [],
   "source": []
  },
  {
   "cell_type": "code",
   "execution_count": 4,
   "metadata": {},
   "outputs": [
    {
     "data": {
      "text/plain": [
       "DataFrame[userId: int, movieId: int, rating: int]"
      ]
     },
     "execution_count": 4,
     "metadata": {},
     "output_type": "execute_result"
    }
   ],
   "source": [
    "# разбиваем на train и test \n",
    "train, test = ratings.randomSplit([0.8, 0.2], seed=42)\n",
    "train.cache()\n",
    "test.cache()"
   ]
  },
  {
   "cell_type": "markdown",
   "metadata": {},
   "source": [
    "#### Обучаем модель ALS с базовыми настройками"
   ]
  },
  {
   "cell_type": "code",
   "execution_count": 5,
   "metadata": {},
   "outputs": [
    {
     "name": "stdout",
     "output_type": "stream",
     "text": [
      "CPU times: user 61 ms, sys: 20.2 ms, total: 81.2 ms\n",
      "Wall time: 17.7 s\n"
     ]
    }
   ],
   "source": [
    "%%time\n",
    "\n",
    "from pyspark.ml.recommendation import ALS\n",
    "\n",
    "# обучаем модель с базовыми настройками\n",
    "als = ALS(userCol='userId', itemCol='movieId', ratingCol='rating',\n",
    "         # если в тестовой выборке будет встречаться неизвестный фильм\n",
    "         # или неизвестный пользователь, они будут игнорироваться\n",
    "         coldStartStrategy='drop',\n",
    "         seed=42\n",
    "         ).fit(train)\n"
   ]
  },
  {
   "cell_type": "markdown",
   "metadata": {},
   "source": [
    "#### Получение предсказания"
   ]
  },
  {
   "cell_type": "code",
   "execution_count": 6,
   "metadata": {},
   "outputs": [
    {
     "name": "stdout",
     "output_type": "stream",
     "text": [
      "RMSE НА ТЕСТОВОЙ ВЫБОРКЕ: 0.8699829723252236\n",
      "CPU times: user 13.9 ms, sys: 6.64 ms, total: 20.5 ms\n",
      "Wall time: 26.7 s\n"
     ]
    }
   ],
   "source": [
    "%%time\n",
    "\n",
    "from pyspark.ml.evaluation import RegressionEvaluator\n",
    "\n",
    "# оценка RMSE\n",
    "predictions = als.transform(test)\n",
    "rmse = evaluator = RegressionEvaluator(\n",
    "    metricName='rmse',\n",
    "    labelCol='rating',\n",
    "    predictionCol='prediction'\n",
    ").evaluate(predictions)\n",
    "\n",
    "print('RMSE НА ТЕСТОВОЙ ВЫБОРКЕ:', rmse)"
   ]
  },
  {
   "cell_type": "code",
   "execution_count": 7,
   "metadata": {},
   "outputs": [
    {
     "name": "stdout",
     "output_type": "stream",
     "text": [
      "+------+-------+------+----------+\n",
      "|userId|movieId|rating|prediction|\n",
      "+------+-------+------+----------+\n",
      "|   673|    148|     5| 3.1561134|\n",
      "|   752|    148|     4| 2.6176784|\n",
      "|   424|    148|     4|   2.65184|\n",
      "|  3841|    463|     3| 2.6328545|\n",
      "|  4858|    463|     3| 2.5887954|\n",
      "|  4040|    463|     1| 1.9802277|\n",
      "|  4277|    463|     4| 3.3540447|\n",
      "|  3753|    463|     2| 2.5673423|\n",
      "|  5047|    463|     3|  2.351024|\n",
      "|  3717|    463|     2| 2.7452142|\n",
      "|  2777|    463|     3| 3.0560455|\n",
      "|   721|    463|     4|  3.302825|\n",
      "|  5996|    463|     4| 3.0582294|\n",
      "|  5300|    471|     4| 4.2088575|\n",
      "|  1884|    471|     2|  3.430507|\n",
      "|   796|    471|     3|  2.848162|\n",
      "|  4172|    471|     3| 3.9526515|\n",
      "|  1156|    471|     3|  2.855598|\n",
      "|  5337|    471|     4| 3.7946675|\n",
      "|  4036|    471|     4| 3.4513297|\n",
      "|  2723|    471|     2| 3.2266033|\n",
      "|  2684|    471|     5| 3.5078275|\n",
      "|  3353|    471|     3| 3.8804703|\n",
      "|  3792|    471|     3|  3.313059|\n",
      "|   409|    471|     3| 3.7029169|\n",
      "+------+-------+------+----------+\n",
      "only showing top 25 rows\n",
      "\n"
     ]
    }
   ],
   "source": [
    "predictions.show(n=25)"
   ]
  },
  {
   "cell_type": "markdown",
   "metadata": {},
   "source": [
    "### Задание слушателям\n",
    "1. Взять датасет ml-1m из surprise\n",
    "2. Обучить ALS на Spark, аналогично по настройкам surprise.SVD\n",
    "3. Сравнить время работы и точность"
   ]
  },
  {
   "cell_type": "code",
   "execution_count": 20,
   "metadata": {},
   "outputs": [
    {
     "name": "stdout",
     "output_type": "stream",
     "text": [
      "CPU times: user 20 ms, sys: 9.51 ms, total: 29.5 ms\n",
      "Wall time: 30.1 s\n"
     ]
    }
   ],
   "source": [
    "%%time\n",
    "als_model = ALS(userCol='userId', itemCol='movieId', ratingCol='rating',\n",
    "         coldStartStrategy='drop',\n",
    "         seed=42, rank=30, maxIter = 30\n",
    "         ).fit(train)"
   ]
  },
  {
   "cell_type": "code",
   "execution_count": 21,
   "metadata": {},
   "outputs": [
    {
     "name": "stdout",
     "output_type": "stream",
     "text": [
      "RMSE НА ТЕСТОВОЙ ВЫБОРКЕ: 0.8578577584588468\n",
      "CPU times: user 14.1 ms, sys: 5.95 ms, total: 20 ms\n",
      "Wall time: 21.5 s\n"
     ]
    }
   ],
   "source": [
    "%%time\n",
    "predictions = als_model.transform(test)\n",
    "rmse = evaluator = RegressionEvaluator(\n",
    "    metricName='rmse',\n",
    "    labelCol='rating',\n",
    "    predictionCol='prediction'\n",
    ").evaluate(predictions)\n",
    "\n",
    "print('RMSE НА ТЕСТОВОЙ ВЫБОРКЕ:', rmse)"
   ]
  },
  {
   "cell_type": "code",
   "execution_count": null,
   "metadata": {},
   "outputs": [],
   "source": []
  }
 ],
 "metadata": {
  "kernelspec": {
   "display_name": "Python 3",
   "language": "python",
   "name": "python3"
  },
  "language_info": {
   "codemirror_mode": {
    "name": "ipython",
    "version": 3
   },
   "file_extension": ".py",
   "mimetype": "text/x-python",
   "name": "python",
   "nbconvert_exporter": "python",
   "pygments_lexer": "ipython3",
   "version": "3.7.6"
  }
 },
 "nbformat": 4,
 "nbformat_minor": 4
}
