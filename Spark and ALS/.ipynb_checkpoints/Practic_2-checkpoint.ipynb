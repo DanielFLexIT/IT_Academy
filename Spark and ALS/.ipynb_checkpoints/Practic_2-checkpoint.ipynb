{
 "cells": [
  {
   "cell_type": "code",
   "execution_count": 2,
   "metadata": {},
   "outputs": [],
   "source": [
    "import pandas as pd\n",
    "\n",
    "movies = pd.read_csv('data/movies.csv')"
   ]
  },
  {
   "cell_type": "code",
   "execution_count": 3,
   "metadata": {},
   "outputs": [
    {
     "data": {
      "text/html": [
       "<div>\n",
       "<style scoped>\n",
       "    .dataframe tbody tr th:only-of-type {\n",
       "        vertical-align: middle;\n",
       "    }\n",
       "\n",
       "    .dataframe tbody tr th {\n",
       "        vertical-align: top;\n",
       "    }\n",
       "\n",
       "    .dataframe thead th {\n",
       "        text-align: right;\n",
       "    }\n",
       "</style>\n",
       "<table border=\"1\" class=\"dataframe\">\n",
       "  <thead>\n",
       "    <tr style=\"text-align: right;\">\n",
       "      <th></th>\n",
       "      <th>genre</th>\n",
       "      <th>movieId</th>\n",
       "      <th>genre_id</th>\n",
       "    </tr>\n",
       "  </thead>\n",
       "  <tbody>\n",
       "    <tr>\n",
       "      <th>0</th>\n",
       "      <td>Animation</td>\n",
       "      <td>1</td>\n",
       "      <td>2</td>\n",
       "    </tr>\n",
       "    <tr>\n",
       "      <th>1</th>\n",
       "      <td>Children's</td>\n",
       "      <td>1</td>\n",
       "      <td>3</td>\n",
       "    </tr>\n",
       "    <tr>\n",
       "      <th>2</th>\n",
       "      <td>Comedy</td>\n",
       "      <td>1</td>\n",
       "      <td>4</td>\n",
       "    </tr>\n",
       "    <tr>\n",
       "      <th>3</th>\n",
       "      <td>Adventure</td>\n",
       "      <td>2</td>\n",
       "      <td>1</td>\n",
       "    </tr>\n",
       "    <tr>\n",
       "      <th>4</th>\n",
       "      <td>Children's</td>\n",
       "      <td>2</td>\n",
       "      <td>3</td>\n",
       "    </tr>\n",
       "  </tbody>\n",
       "</table>\n",
       "</div>"
      ],
      "text/plain": [
       "        genre  movieId  genre_id\n",
       "0   Animation        1         2\n",
       "1  Children's        1         3\n",
       "2      Comedy        1         4\n",
       "3   Adventure        2         1\n",
       "4  Children's        2         3"
      ]
     },
     "execution_count": 3,
     "metadata": {},
     "output_type": "execute_result"
    }
   ],
   "source": [
    "rows = []\n",
    "\n",
    "for _, row in movies.iterrows():\n",
    "    for genre in row['genres'].split('|'):\n",
    "        rows.append([genre, row['movieId']])\n",
    "        \n",
    "movies_genres = pd.DataFrame(rows, columns=['genre', 'movieId'])\n",
    "movies_genres['genre_id'] = movies_genres['genre'].astype('category').cat.codes.copy() # сопостовление какому Id фильма, соответствует Id жанра\n",
    "movies_genres.head()"
   ]
  },
  {
   "cell_type": "code",
   "execution_count": 5,
   "metadata": {},
   "outputs": [],
   "source": [
    "# поскольку строится гибридная система, оценки тоже нужны\n",
    "\n",
    "ratings = pd.read_csv('data/ratings.csv')"
   ]
  },
  {
   "cell_type": "code",
   "execution_count": 6,
   "metadata": {},
   "outputs": [],
   "source": [
    "from scipy.sparse import coo_matrix\n",
    "import numpy as np\n",
    "\n",
    "user_item_matrix = coo_matrix((\n",
    "    (ratings[\"rating\"]>=4).astype(np.float32), # по колонке оценок пораждается булевская колонка \"нравится\"\n",
    "    (ratings[\"userId\"], ratings[\"movieId\"])),    # назначение матрицы строк и столбцов\n",
    "    shape=(\n",
    "        ratings[\"userId\"].unique().max() + 1,   # явно указан размер, так как есть фильмы без оценок, но с жанрами\n",
    "        movies[\"movieId\"].unique().max() + 1)   # чтобы алгоритм не сломался\n",
    ")\n",
    "\n",
    "user_item_matrix.eliminate_zeros()"
   ]
  },
  {
   "cell_type": "code",
   "execution_count": 7,
   "metadata": {},
   "outputs": [],
   "source": [
    "# делим разреженную матрицу на обучающую и тестовую\n",
    "total_len = user_item_matrix.data.size\n",
    "train_len = int(total_len * 0.8)\n",
    "all_indices = np.arange(total_len)\n",
    "np.random.seed(42)\n",
    "train_indices = np.random.choice(all_indices, train_len, replace=False)\n",
    "train_mask = np.in1d(all_indices, train_indices)"
   ]
  },
  {
   "cell_type": "code",
   "execution_count": 8,
   "metadata": {},
   "outputs": [],
   "source": [
    "# функция наложения маски на разреженные матрицы\n",
    "def get_masked(arr, mask):\n",
    "    return coo_matrix(\n",
    "        (\n",
    "            [np.float32(item) for item in arr.data[mask]],\n",
    "            (arr.row[mask], arr.col[mask])\n",
    "        ), arr.shape\n",
    "    )"
   ]
  },
  {
   "cell_type": "code",
   "execution_count": 9,
   "metadata": {},
   "outputs": [],
   "source": [
    "# подготовка train и  test матриц\n",
    "\n",
    "train = get_masked(user_item_matrix, train_mask)\n",
    "test = get_masked(user_item_matrix, ~train_mask)"
   ]
  },
  {
   "cell_type": "code",
   "execution_count": 10,
   "metadata": {},
   "outputs": [],
   "source": [
    "# сохранения train и test  в npz\n",
    "\n",
    "from scipy.sparse import save_npz\n",
    "\n",
    "save_npz('data/lightfm_train.npz', train)\n",
    "save_npz('data/lightfm_test.npz', test)"
   ]
  },
  {
   "cell_type": "markdown",
   "metadata": {},
   "source": [
    "Установка   \n",
    "!conda install -c conda-forge lightfm"
   ]
  },
  {
   "cell_type": "markdown",
   "metadata": {},
   "source": [
    "##### Подключаем модель"
   ]
  },
  {
   "cell_type": "code",
   "execution_count": 9,
   "metadata": {},
   "outputs": [
    {
     "name": "stderr",
     "output_type": "stream",
     "text": [
      "C:\\Users\\Nikolya\\anaconda3\\lib\\site-packages\\lightfm\\_lightfm_fast.py:9: UserWarning: LightFM was compiled without OpenMP support. Only a single thread will be used.\n",
      "  warnings.warn(\n"
     ]
    }
   ],
   "source": [
    "from lightfm import LightFM\n",
    "\n",
    "fm = LightFM()"
   ]
  },
  {
   "cell_type": "code",
   "execution_count": 10,
   "metadata": {},
   "outputs": [
    {
     "name": "stderr",
     "output_type": "stream",
     "text": [
      "Epoch: 100%|███████████████████████████████████████████████████████████████████████████| 10/10 [00:07<00:00,  1.39it/s]\n"
     ]
    },
    {
     "data": {
      "text/plain": [
       "<lightfm.lightfm.LightFM at 0x2cf8b58cc40>"
      ]
     },
     "execution_count": 10,
     "metadata": {},
     "output_type": "execute_result"
    }
   ],
   "source": [
    "# обучение модели\n",
    "\n",
    "fm.fit(interactions=train, \n",
    "       epochs=100, \n",
    "       num_threads=6, # количество потоков \n",
    "       verbose=True)"
   ]
  },
  {
   "cell_type": "code",
   "execution_count": 11,
   "metadata": {},
   "outputs": [
    {
     "data": {
      "text/plain": [
       "{'loss': 'logistic',\n",
       " 'learning_schedule': 'adagrad',\n",
       " 'no_components': 10,\n",
       " 'learning_rate': 0.05,\n",
       " 'k': 5,\n",
       " 'n': 10,\n",
       " 'rho': 0.95,\n",
       " 'epsilon': 1e-06,\n",
       " 'max_sampled': 10,\n",
       " 'item_alpha': 0.0,\n",
       " 'user_alpha': 0.0,\n",
       " 'random_state': RandomState(MT19937) at 0x2CF8B757D40}"
      ]
     },
     "execution_count": 11,
     "metadata": {},
     "output_type": "execute_result"
    }
   ],
   "source": [
    "fm.get_params() # параметры обученной модели"
   ]
  },
  {
   "cell_type": "code",
   "execution_count": 12,
   "metadata": {},
   "outputs": [
    {
     "name": "stdout",
     "output_type": "stream",
     "text": [
      "Wall time: 1.8 s\n"
     ]
    }
   ],
   "source": [
    "%%time\n",
    "\n",
    "from lightfm.evaluation import reciprocal_rank\n",
    "\n",
    "rr = reciprocal_rank(model=fm, test_interactions=test, train_interactions=train, num_threads=6) # дисконтированный хитрейт"
   ]
  },
  {
   "cell_type": "code",
   "execution_count": 13,
   "metadata": {},
   "outputs": [
    {
     "data": {
      "text/plain": [
       "0.31919464"
      ]
     },
     "execution_count": 13,
     "metadata": {},
     "output_type": "execute_result"
    }
   ],
   "source": [
    "rr.mean() # среднее по всем пользователям"
   ]
  },
  {
   "cell_type": "code",
   "execution_count": 14,
   "metadata": {},
   "outputs": [
    {
     "name": "stderr",
     "output_type": "stream",
     "text": [
      "Epoch: 100%|█████████████████████████████████████████████████████████████████████████| 100/100 [01:11<00:00,  1.39it/s]"
     ]
    },
    {
     "name": "stdout",
     "output_type": "stream",
     "text": [
      "Wall time: 1min 11s\n"
     ]
    },
    {
     "name": "stderr",
     "output_type": "stream",
     "text": [
      "\n"
     ]
    },
    {
     "data": {
      "text/plain": [
       "<lightfm.lightfm.LightFM at 0x2cf8b58cc40>"
      ]
     },
     "execution_count": 14,
     "metadata": {},
     "output_type": "execute_result"
    }
   ],
   "source": [
    "%%time\n",
    "\n",
    "fm.fit_partial(interactions=train, epochs=100, num_threads=6, verbose=True) # продолжение обучения с прерванного момента"
   ]
  },
  {
   "cell_type": "code",
   "execution_count": 15,
   "metadata": {},
   "outputs": [
    {
     "name": "stdout",
     "output_type": "stream",
     "text": [
      "Wall time: 1.85 s\n"
     ]
    }
   ],
   "source": [
    "%%time\n",
    "\n",
    "rr = reciprocal_rank(model=fm, test_interactions=test, train_interactions=train, num_threads=6)"
   ]
  },
  {
   "cell_type": "code",
   "execution_count": 16,
   "metadata": {},
   "outputs": [
    {
     "data": {
      "text/plain": [
       "0.3177889"
      ]
     },
     "execution_count": 16,
     "metadata": {},
     "output_type": "execute_result"
    }
   ],
   "source": [
    "rr.mean()"
   ]
  },
  {
   "cell_type": "code",
   "execution_count": 17,
   "metadata": {},
   "outputs": [
    {
     "name": "stdout",
     "output_type": "stream",
     "text": [
      "(array([0.        , 1.1153724 , 1.2990186 , ..., 0.75771034, 1.381717  ,\n",
      "       2.0901217 ], dtype=float32), array([[ 0.00683901, -0.01995587,  0.03185591, ..., -0.00406782,\n",
      "         0.04371354, -0.00920423],\n",
      "       [ 0.17736019, -0.40058348,  0.35298672, ...,  0.22707155,\n",
      "        -0.16104804, -0.08153381],\n",
      "       [ 0.2526694 , -0.46917337,  0.28745666, ...,  0.19011015,\n",
      "        -0.20011003, -0.11190661],\n",
      "       ...,\n",
      "       [ 0.1137749 , -0.2851827 ,  0.25242928, ...,  0.1575846 ,\n",
      "        -0.16233514, -0.14619596],\n",
      "       [ 0.18650752, -0.49888462,  0.32676822, ...,  0.22032477,\n",
      "        -0.23402044, -0.14326385],\n",
      "       [ 0.22526251, -0.6502978 ,  0.36091024, ...,  0.17257522,\n",
      "        -0.26082042, -0.2277385 ]], dtype=float32))\n"
     ]
    }
   ],
   "source": [
    "user_factors = fm.get_user_representations()\n",
    "print(user_factors)"
   ]
  },
  {
   "cell_type": "code",
   "execution_count": 18,
   "metadata": {},
   "outputs": [
    {
     "name": "stdout",
     "output_type": "stream",
     "text": [
      "6041\n",
      "(6041, 10)\n"
     ]
    }
   ],
   "source": [
    "print(len(user_factors[0]))\n",
    "print(user_factors[1].shape) # размерность матрицы факторов пользователя = пользователи на скрытые факторы"
   ]
  },
  {
   "cell_type": "code",
   "execution_count": 19,
   "metadata": {},
   "outputs": [
    {
     "name": "stdout",
     "output_type": "stream",
     "text": [
      "(array([0.       , 4.3086796, 2.719371 , ..., 1.3661305, 1.3987254,\n",
      "       2.8817782], dtype=float32), array([[ 1.5451416e-04, -3.7158221e-02,  3.8057484e-02, ...,\n",
      "        -3.4397956e-02, -8.4520131e-03, -2.6171771e-03],\n",
      "       [ 3.5534960e-01, -9.2316157e-01,  7.4786764e-01, ...,\n",
      "         3.6499727e-01, -4.0885797e-01, -2.4378675e-01],\n",
      "       [ 2.5560021e-01, -8.0060524e-01,  6.7049992e-01, ...,\n",
      "         3.1920066e-01, -3.4058979e-01, -2.2684652e-01],\n",
      "       ...,\n",
      "       [ 2.5626877e-01, -4.5495424e-01,  4.3486425e-01, ...,\n",
      "         1.4888130e-01, -2.3828213e-01, -1.3489310e-01],\n",
      "       [ 2.1889143e-01, -5.7129806e-01,  3.7845117e-01, ...,\n",
      "         1.8330279e-01, -2.6987869e-01, -1.3751863e-01],\n",
      "       [ 4.4551343e-01, -7.0839101e-01,  7.2680056e-01, ...,\n",
      "         3.9028987e-01, -2.8300896e-01, -1.3272214e-01]], dtype=float32))\n"
     ]
    }
   ],
   "source": [
    "item_factors = fm.get_item_representations() # тоже самое с факторами объектов\n",
    "print(item_factors)"
   ]
  },
  {
   "cell_type": "code",
   "execution_count": 20,
   "metadata": {},
   "outputs": [
    {
     "name": "stdout",
     "output_type": "stream",
     "text": [
      "3953\n",
      "(3953, 10)\n"
     ]
    }
   ],
   "source": [
    "print(len(item_factors[0]))\n",
    "print(item_factors[1].shape) # размерность матрицы факторов item = пользователи на скрытые факторы"
   ]
  },
  {
   "cell_type": "markdown",
   "metadata": {},
   "source": [
    "### Добавление фичей жанров и id жанров"
   ]
  },
  {
   "cell_type": "code",
   "execution_count": 21,
   "metadata": {},
   "outputs": [
    {
     "data": {
      "text/plain": [
       "(3953, 3971)"
      ]
     },
     "execution_count": 21,
     "metadata": {},
     "output_type": "execute_result"
    }
   ],
   "source": [
    "# добавление фичей жанров и id жанров\n",
    "\n",
    "from scipy.sparse import identity, hstack\n",
    "\n",
    "item_feature_matrix = hstack([  # контектенирует две матрицы\n",
    "    coo_matrix(\n",
    "        (np.ones(movies_genres.count()[0], dtype=np.float32),\n",
    "        (movies_genres['movieId'], movies_genres['genre_id'])),\n",
    "        shape=(user_item_matrix.shape[1], movies_genres['genre_id'].unique().size)),\n",
    "        identity(user_item_matrix.shape[1]) # единичная матрица соответствия жанра\n",
    "])\n",
    "\n",
    "item_feature_matrix.shape # результат = id фильма + id жанров"
   ]
  },
  {
   "cell_type": "code",
   "execution_count": 22,
   "metadata": {},
   "outputs": [
    {
     "name": "stderr",
     "output_type": "stream",
     "text": [
      "Epoch: 100%|█████████████████████████████████████████████████████████████████████████| 100/100 [01:33<00:00,  1.07it/s]"
     ]
    },
    {
     "name": "stdout",
     "output_type": "stream",
     "text": [
      "Wall time: 1min 33s\n"
     ]
    },
    {
     "name": "stderr",
     "output_type": "stream",
     "text": [
      "\n"
     ]
    },
    {
     "data": {
      "text/plain": [
       "<lightfm.lightfm.LightFM at 0x2cf8b58cc40>"
      ]
     },
     "execution_count": 22,
     "metadata": {},
     "output_type": "execute_result"
    }
   ],
   "source": [
    "%%time\n",
    "\n",
    "fm.fit(interactions=train, epochs=100, item_features=item_feature_matrix, num_threads=6, verbose=True) # обучается так же плюс передается матрица фичей"
   ]
  },
  {
   "cell_type": "code",
   "execution_count": 23,
   "metadata": {},
   "outputs": [
    {
     "name": "stdout",
     "output_type": "stream",
     "text": [
      "(array([7.626479  , 5.790997  , 4.8231373 , ..., 0.02424527, 0.01865968,\n",
      "       0.011107  ], dtype=float32), array([[ 0.11239927, -0.11265222, -0.1360352 , ..., -0.03835268,\n",
      "         0.00038722,  0.07156969],\n",
      "       [ 0.06215441, -0.06723433, -0.03539331, ..., -0.02291493,\n",
      "        -0.01301303, -0.00269012],\n",
      "       [-0.00579206, -0.03892303, -0.03781378, ..., -0.0511501 ,\n",
      "         0.00878255,  0.04461211],\n",
      "       ...,\n",
      "       [ 0.03905605,  0.017334  ,  0.009228  , ..., -0.00787994,\n",
      "        -0.01382275, -0.01371532],\n",
      "       [-0.02521478, -0.02193118, -0.0362846 , ...,  0.02771407,\n",
      "        -0.00329048,  0.03468949],\n",
      "       [-0.02060361, -0.01658923, -0.02394882, ...,  0.01644796,\n",
      "         0.04591839, -0.02420409]], dtype=float32))\n"
     ]
    }
   ],
   "source": [
    "new_item_factors = fm.get_item_representations() # тоже самое с факторами объектов\n",
    "print(new_item_factors)\n"
   ]
  },
  {
   "cell_type": "code",
   "execution_count": 24,
   "metadata": {},
   "outputs": [
    {
     "name": "stdout",
     "output_type": "stream",
     "text": [
      "3971\n",
      "(3971, 10)\n"
     ]
    }
   ],
   "source": [
    "print(len(new_item_factors[0]))\n",
    "print(new_item_factors[1].shape)"
   ]
  },
  {
   "cell_type": "code",
   "execution_count": 25,
   "metadata": {},
   "outputs": [
    {
     "name": "stdout",
     "output_type": "stream",
     "text": [
      "Wall time: 2.13 s\n"
     ]
    }
   ],
   "source": [
    "%%time\n",
    "# оценка\n",
    "\n",
    "rr = reciprocal_rank(model=fm, test_interactions=test, train_interactions=train, \n",
    "                     item_features=item_feature_matrix, num_threads=6)"
   ]
  },
  {
   "cell_type": "code",
   "execution_count": 26,
   "metadata": {},
   "outputs": [
    {
     "data": {
      "text/plain": [
       "0.0684263"
      ]
     },
     "execution_count": 26,
     "metadata": {},
     "output_type": "execute_result"
    }
   ],
   "source": [
    "rr.mean()"
   ]
  },
  {
   "cell_type": "code",
   "execution_count": 27,
   "metadata": {},
   "outputs": [],
   "source": [
    "# как это не печально, но результат получился гораздо хуже."
   ]
  },
  {
   "cell_type": "markdown",
   "metadata": {},
   "source": [
    "#### Задание слушателям  \n",
    "1. Подобрать параметры модели и улучшить результат."
   ]
  },
  {
   "cell_type": "code",
   "execution_count": null,
   "metadata": {},
   "outputs": [],
   "source": []
  }
 ],
 "metadata": {
  "kernelspec": {
   "display_name": "Python 3",
   "language": "python",
   "name": "python3"
  }
 },
 "nbformat": 4,
 "nbformat_minor": 4
}
