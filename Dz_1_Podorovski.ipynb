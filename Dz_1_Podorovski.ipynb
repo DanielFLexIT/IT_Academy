{
 "cells": [
  {
   "cell_type": "code",
   "execution_count": 4,
   "metadata": {},
   "outputs": [],
   "source": [
    "import numpy as np"
   ]
  },
  {
   "cell_type": "markdown",
   "metadata": {},
   "source": [
    "# Для работы с поиском кратчайшего пути нам придется работать с симметрическими матрицами.\n",
    "Допустим, существует путь из вершины А в вершину В, тогда количество ребер, соединяющие эти вершины\n",
    "должно быть равным, как из А в В, так из В в А. "
   ]
  },
  {
   "cell_type": "code",
   "execution_count": 5,
   "metadata": {},
   "outputs": [],
   "source": [
    "def CreateSymmetricMatrix(numOfCities):\n",
    "    \"\"\"\n",
    "    Генерируем матрицу из случайных чисел в диапозоне от 0 до 500, на вход принимаем количество городов\n",
    "    Далее из уже сгенерированной матрицы делаем преобразование в симметрическую.\n",
    "    Затем заполняем элементы главной диагонали нулями\n",
    "    \"\"\"\n",
    "    matrix = np.random.randint(0, 500, size = (numOfCities, numOfCities))\n",
    "    symmMatrix = (matrix + matrix.T) / 2 \n",
    "    np.fill_diagonal(symmMatrix, 0)\n",
    "    return symmMatrix\n"
   ]
  },
  {
   "cell_type": "code",
   "execution_count": 6,
   "metadata": {},
   "outputs": [],
   "source": [
    "def DijkstraAlgorithm(symmMatrix, firstCity, secondCity):\n",
    "    \n",
    "    \"\"\"\n",
    "    Для написания данного алгоритма использовалась статья из википедии\n",
    "    https://ru.wikipedia.org/wiki/Алгоритм_Дейкстры, в которой содержатся иллюстрации данного алгоритма и псевдокод\n",
    "    \"\"\"\n",
    "    \n",
    "    #переменная, хранящая размер массива\n",
    "    size = len(symmMatrix) \n",
    "    #переменная, соответствующая значению бесконечность\n",
    "    infinity = 10**10                    \n",
    "    #массив расстояний между первым городом до остальных городов\n",
    "    distance = [infinity] * size    \n",
    "    #уменьшаем номера городов, чтобы сделать их нулями\n",
    "    firstCity -= 1                                      \n",
    "    secondCity -= 1\n",
    "    #расстояние между одним и тем же городом должно равняться 0\n",
    "    distance[firstCity] = 0                     \n",
    "    #текущая вершина\n",
    "    currentVertex = firstCity                         \n",
    "    #минимальное расстояние\n",
    "    minDistance = 0  \n",
    "    #временный массив\n",
    "    route = []\n",
    "    for i in range(size):\n",
    "        route.append(i)  \n",
    "    #минимальный маршрут\n",
    "    finalRoute = [secondCity + 1]                     \n",
    "    #массив, содержащий информацию о посещении города\n",
    "    visited = [False] * size         \n",
    "    \n",
    "    #в случае, если значения первого и второго городов равны\n",
    "    while not visited[secondCity]:                    \n",
    "        visited[currentVertex] = True\n",
    "        if currentVertex == secondCity:                \n",
    "            break\n",
    "        #считаем расстояние от одной вершины до остальных\n",
    "        for i in range(size):      \n",
    "            if distance[currentVertex] + symmMatrix[currentVertex][i] < distance[i]  and symmMatrix[currentVertex][i] != 0 and not visited[i] and i > 0:\n",
    "                distance[i] = distance[currentVertex] + symmMatrix[currentVertex][i]\n",
    "                route[i] = currentVertex      \n",
    "        #создаем ещё один временный массив для подсчёта минимального расстояния, не включаем в него уже посещенные города\n",
    "        tmp = []                                        \n",
    "        for i in range(size):           \n",
    "            if not visited[i]:\n",
    "                tmp.append(distance[i])\n",
    "        #считаем минимальное расстояние и индекс вершины, в которой находится минимальное расстояние\n",
    "        minDistance = np.min(tmp)                                             \n",
    "        currentVertex = distance.index(minDistance) \n",
    "        while visited[currentVertex]:\n",
    "            currentVertex = distance.index(minDistance, currentVertex + 1)  \n",
    "    #получение окончательного ответа\n",
    "    vertex = secondCity                                          \n",
    "    while vertex != firstCity:\n",
    "        vertex = route[vertex]\n",
    "        finalRoute.append(vertex + 1)\n",
    "    finalRoute = finalRoute[::-1]\n",
    "    resultDistance = distance[secondCity]   \n",
    "    return finalRoute, resultDistance\n",
    "\n",
    "    \n",
    "    \n",
    "    \n",
    "    \n",
    "    \n",
    "    "
   ]
  },
  {
   "cell_type": "code",
   "execution_count": 7,
   "metadata": {},
   "outputs": [
    {
     "data": {
      "text/plain": [
       "array([[  0. , 418. , 387.5,  73. ],\n",
       "       [418. ,   0. , 156. , 155. ],\n",
       "       [387.5, 156. ,   0. , 312.5],\n",
       "       [ 73. , 155. , 312.5,   0. ]])"
      ]
     },
     "execution_count": 7,
     "metadata": {},
     "output_type": "execute_result"
    }
   ],
   "source": [
    "matrix_ = CreateSymmetricMatrix(4)\n",
    "matrix_"
   ]
  },
  {
   "cell_type": "code",
   "execution_count": 8,
   "metadata": {},
   "outputs": [
    {
     "name": "stdout",
     "output_type": "stream",
     "text": [
      "CPU times: user 359 µs, sys: 101 µs, total: 460 µs\n",
      "Wall time: 497 µs\n"
     ]
    },
    {
     "data": {
      "text/plain": [
       "([1, 4, 2, 3], 384.0)"
      ]
     },
     "execution_count": 8,
     "metadata": {},
     "output_type": "execute_result"
    }
   ],
   "source": [
    "%%time\n",
    "result = DijkstraAlgorithm(matrix_, 1, 3)\n",
    "result"
   ]
  },
  {
   "cell_type": "code",
   "execution_count": null,
   "metadata": {},
   "outputs": [],
   "source": []
  }
 ],
 "metadata": {
  "kernelspec": {
   "display_name": "Python 3",
   "language": "python",
   "name": "python3"
  },
  "language_info": {
   "codemirror_mode": {
    "name": "ipython",
    "version": 3
   },
   "file_extension": ".py",
   "mimetype": "text/x-python",
   "name": "python",
   "nbconvert_exporter": "python",
   "pygments_lexer": "ipython3",
   "version": "3.7.6"
  }
 },
 "nbformat": 4,
 "nbformat_minor": 4
}
